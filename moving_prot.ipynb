{
 "cells": [
  {
   "cell_type": "code",
   "execution_count": 3,
   "id": "2b9549a6",
   "metadata": {},
   "outputs": [],
   "source": [
    "import MDAnalysis as mda\n",
    "from MDAnalysis import transformations\n",
    "import numpy as np\n",
    "\n",
    "import os\n",
    "import shutil"
   ]
  },
  {
   "cell_type": "markdown",
   "id": "6cf98a96",
   "metadata": {},
   "source": [
    "Importing the modules needed to move protein. 'edit_box' folder should be in working directory"
   ]
  },
  {
   "cell_type": "code",
   "execution_count": 4,
   "id": "d2472c20",
   "metadata": {},
   "outputs": [],
   "source": [
    "from edit_box import move_prot"
   ]
  },
  {
   "cell_type": "markdown",
   "id": "27414ff0",
   "metadata": {},
   "source": [
    "Calling move_prot function. Should have 2 folders:\n",
    "- amino acid folder with topologies and gro file\n",
    "- LD file with topologies and gro file\n",
    "- eq file that has mdp options\n",
    "\n",
    "We are making 'out' file which has final data"
   ]
  },
  {
   "cell_type": "code",
   "execution_count": 6,
   "id": "86c02cc2",
   "metadata": {},
   "outputs": [],
   "source": [
    "os.mkdir('out')"
   ]
  },
  {
   "cell_type": "markdown",
   "id": "fcb0ae6c",
   "metadata": {},
   "source": [
    "function below: ( LD gro file, amino acid gro file, # angstroms above membrane, out file path )"
   ]
  },
  {
   "cell_type": "code",
   "execution_count": 7,
   "id": "dba0dd60",
   "metadata": {},
   "outputs": [],
   "source": [
    "combined = move_prot.move_prot('ld_top/ld0.gro', 'phe/1.gro', 20, 'out/out.gro')"
   ]
  },
  {
   "cell_type": "markdown",
   "id": "07904fe3",
   "metadata": {},
   "source": [
    "Gromacs has to be loaded in terminal before calling this. This renumbers gro file. If this is on CHPC, then gmx_mpi"
   ]
  },
  {
   "cell_type": "code",
   "execution_count": 8,
   "id": "88115abe",
   "metadata": {
    "scrolled": false
   },
   "outputs": [
    {
     "name": "stdout",
     "output_type": "stream",
     "text": [
      "                      :-) GROMACS - gmx genconf, 2022 (-:\n",
      "\n",
      "Executable:   /usr/local/gromacs/bin/gmx\n",
      "Data prefix:  /usr/local/gromacs\n",
      "Working dir:  /mnt/c/users/jay/desktop/modules/modules/move_prot\n",
      "Command line:\n",
      "  gmx genconf -renumber -f out/out.gro -o out/renumber.gro\n",
      "\n",
      "\n",
      "GROMACS reminds you: \"Computer dating is fine, if you are a computer.\" (Rita May Brown)\n",
      "\n"
     ]
    }
   ],
   "source": [
    "!gmx genconf -renumber -f out/out.gro -o out/renumber.gro\n"
   ]
  },
  {
   "cell_type": "markdown",
   "id": "df2d49b6",
   "metadata": {},
   "source": [
    "Copy the toppar from 'ld_top' to 'out'"
   ]
  },
  {
   "cell_type": "code",
   "execution_count": 13,
   "id": "48d883f0",
   "metadata": {},
   "outputs": [
    {
     "data": {
      "text/plain": [
       "'out/toppar'"
      ]
     },
     "execution_count": 13,
     "metadata": {},
     "output_type": "execute_result"
    }
   ],
   "source": [
    "in_path = 'ld_top/toppar'\n",
    "out_path = 'out/toppar'\n",
    "shutil.copytree(in_path, out_path) "
   ]
  },
  {
   "cell_type": "code",
   "execution_count": 16,
   "id": "f81ed315",
   "metadata": {},
   "outputs": [
    {
     "data": {
      "text/plain": [
       "'out/topol.top'"
      ]
     },
     "execution_count": 16,
     "metadata": {},
     "output_type": "execute_result"
    }
   ],
   "source": [
    "in_path = 'ld_top/topol_tg.top'\n",
    "out_path = 'out/topol.top'\n",
    "shutil.copy(in_path, out_path) "
   ]
  },
  {
   "cell_type": "markdown",
   "id": "942b5cc6",
   "metadata": {},
   "source": [
    "We are now moving the amino acid topology file (LIG.itp) from amino acid /toppar/ file to 'out' /toppar file."
   ]
  },
  {
   "cell_type": "code",
   "execution_count": 14,
   "id": "09a9f495",
   "metadata": {},
   "outputs": [
    {
     "data": {
      "text/plain": [
       "'out/toppar/LIG.itp'"
      ]
     },
     "execution_count": 14,
     "metadata": {},
     "output_type": "execute_result"
    }
   ],
   "source": [
    "inpath = r'phe/toppar/LIG.itp'\n",
    "outpath = r'out/toppar/LIG.itp'\n",
    "shutil.copy(inpath, outpath)"
   ]
  },
  {
   "cell_type": "code",
   "execution_count": 17,
   "id": "40b0c77c",
   "metadata": {},
   "outputs": [],
   "source": [
    "## only use if old protein name is in there. If topology_tg file is coming from another \n",
    "## amino acid LD system, than it should be fine\n",
    "\n",
    "## in development: add attribute thatchecks for name and if not there will add, or skip\n",
    "\n",
    "oldname = 'PROA'\n",
    "ligname = 'LIG'\n",
    "with open(r'out/topol.top','r') as f:\n",
    "    data = f.read()\n",
    "    data = data.replace(oldname, ligname)\n",
    "with open(r'out/topol.top','w') as f:\n",
    "    f.write(data)\n",
    "    "
   ]
  },
  {
   "cell_type": "markdown",
   "id": "552cf2e2",
   "metadata": {},
   "source": [
    "We want to count the number of water atoms in the new file. This is because the amino acids / ligand replaces the water, so we need to change the number in the topology top file"
   ]
  },
  {
   "cell_type": "code",
   "execution_count": 18,
   "id": "e00f164b",
   "metadata": {},
   "outputs": [],
   "source": [
    "name = 'TIP3'\n",
    "ls = []\n",
    "with open(r'out/renumber.gro','r') as f:\n",
    "    content = f.read()\n",
    "    occurrences = content.count('TIP3')\n",
    "    num = occurrences/3"
   ]
  },
  {
   "cell_type": "markdown",
   "id": "feccd541",
   "metadata": {},
   "source": [
    "Channging it to get rid of '.0' at end"
   ]
  },
  {
   "cell_type": "code",
   "execution_count": 19,
   "id": "ae602bed",
   "metadata": {},
   "outputs": [],
   "source": [
    "num=int(num)"
   ]
  },
  {
   "cell_type": "code",
   "execution_count": 20,
   "id": "4089728d",
   "metadata": {},
   "outputs": [],
   "source": [
    "num=str(num)\n"
   ]
  },
  {
   "cell_type": "code",
   "execution_count": 21,
   "id": "a5258cc8",
   "metadata": {},
   "outputs": [
    {
     "data": {
      "text/plain": [
       "'42364'"
      ]
     },
     "execution_count": 21,
     "metadata": {},
     "output_type": "execute_result"
    }
   ],
   "source": [
    "num"
   ]
  },
  {
   "cell_type": "code",
   "execution_count": 22,
   "id": "5697ea4b",
   "metadata": {},
   "outputs": [],
   "source": [
    "with open(r'out/topol.top','r') as s:\n",
    "    lines = s.readlines()\n",
    "    \n",
    "    ls=[]\n",
    "    for stuff in lines:\n",
    "        if stuff.startswith('TIP3 '):\n",
    "            ls.append(stuff)\n",
    "            \n",
    "            "
   ]
  },
  {
   "cell_type": "code",
   "execution_count": 23,
   "id": "3cdd483d",
   "metadata": {},
   "outputs": [
    {
     "data": {
      "text/plain": [
       "['TIP3  \\t       41851\\n']"
      ]
     },
     "execution_count": 23,
     "metadata": {},
     "output_type": "execute_result"
    }
   ],
   "source": [
    "ls"
   ]
  },
  {
   "cell_type": "code",
   "execution_count": 25,
   "id": "14eaaf21",
   "metadata": {},
   "outputs": [],
   "source": [
    "# variable naming got sloppy here, should eventually change\n",
    "\n",
    "file = open(r'out/topol.top','r')\n",
    "data1 = file.read()\n",
    "data2 = 'TIP3'+'          '+num\n",
    "new_data = open(r'out/topol.top','r')\n",
    "new_data1 = new_data.read()\n",
    "new_data1 = new_data1.replace(stuff, data2)\n",
    "\n",
    "with open(r'out/topol.top','w') as f:\n",
    "    f.write(new_data1)"
   ]
  },
  {
   "cell_type": "markdown",
   "id": "34497dd9",
   "metadata": {},
   "source": [
    "After this we have an amino-acid + LD system that is renumbered for the waters. At this point you should run 'gmx grompp' with the step6.0_minimization file. This will likely pop up and error saying that there is a + or - charge ibalance in the system \n",
    "\n",
    "Lets say for example we have an overall -1.0 (negative) charge."
   ]
  },
  {
   "cell_type": "markdown",
   "id": "02323e22",
   "metadata": {},
   "source": [
    " The ending of the renumber.gro will look something like this:\n"
   ]
  },
  {
   "cell_type": "raw",
   "id": "1775ffd9",
   "metadata": {},
   "source": [
    "...\n",
    "\n",
    "43318TIP3    OH235006   7.086   6.321  21.623  0.0000  0.0000  0.0000\n",
    "43318TIP3    H135007   7.090   6.330  21.527  0.0000  0.0000  0.0000\n",
    "43318TIP3    H235008   7.119   6.233  21.640  0.0000  0.0000  0.0000\n",
    "    9.56090   9.56090  25.41698"
   ]
  },
  {
   "cell_type": "markdown",
   "id": "d51bdbbd",
   "metadata": {},
   "source": [
    "We will then copy a line from this same file that has SOD, and paste it at the end of the topology file as shown below:"
   ]
  },
  {
   "cell_type": "raw",
   "id": "49540e0e",
   "metadata": {},
   "source": [
    "...\n",
    "\n",
    "43318TIP3    OH235006   7.086   6.321  21.623  0.0000  0.0000  0.0000\n",
    "43318TIP3    H135007   7.090   6.330  21.527  0.0000  0.0000  0.0000\n",
    "43318TIP3    H235008   7.119   6.233  21.640  0.0000  0.0000  0.0000\n",
    "43319SOD     SOD35009   2.532   8.193   6.570  0.0000  0.0000  0.0000\n",
    "    9.56090   9.56090  25.41698"
   ]
  },
  {
   "cell_type": "markdown",
   "id": "e9c897c8",
   "metadata": {},
   "source": [
    "This requires you to add the numbering in front of the residue name and atom name (43319SOD     SOD35009) and also to change the coordinates slightly (2.532   8.193   6.570). If this was coppied from previous SOD line, just change the coordinates by +- 1 or so. "
   ]
  },
  {
   "cell_type": "markdown",
   "id": "4d4518c2",
   "metadata": {},
   "source": [
    "You then have to change the number of atoms on the top of the topology file. Below says '235008', but you will have to change it to 235009"
   ]
  },
  {
   "cell_type": "raw",
   "id": "bb11383a",
   "metadata": {},
   "source": [
    "Written by MDAnalysis\n",
    "235008\n",
    "    1LIG     N1    1   4.691   4.743   4.661  0.0000  0.0000  0.0000\n",
    "    1LIG     C1    2   4.766   4.859   4.698  0.0000  0.0000  0.0000\n",
    "    1LIG     C2    3   4.768   4.960   4.588  0.0000  0.0000  0.0000\n",
    "    1LIG     O1    4   4.781   4.929   4.470  0.0000  0.0000  0.0000"
   ]
  },
  {
   "cell_type": "markdown",
   "id": "d1a823dd",
   "metadata": {},
   "source": [
    "From here try to minimize the system again with this new settup"
   ]
  },
  {
   "cell_type": "code",
   "execution_count": null,
   "id": "70af3866",
   "metadata": {},
   "outputs": [],
   "source": []
  }
 ],
 "metadata": {
  "kernelspec": {
   "display_name": "Python 3 (ipykernel)",
   "language": "python",
   "name": "python3"
  },
  "language_info": {
   "codemirror_mode": {
    "name": "ipython",
    "version": 3
   },
   "file_extension": ".py",
   "mimetype": "text/x-python",
   "name": "python",
   "nbconvert_exporter": "python",
   "pygments_lexer": "ipython3",
   "version": "3.9.7"
  }
 },
 "nbformat": 4,
 "nbformat_minor": 5
}
